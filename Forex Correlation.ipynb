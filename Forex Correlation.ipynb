{
 "cells": [
  {
   "cell_type": "markdown",
   "metadata": {},
   "source": []
  },
  {
   "cell_type": "markdown",
   "metadata": {},
   "source": [
    "# ML Correlation Notebook\n",
    "# <h3> By: Peter Giannetos <h3>"
   ]
  },
  {
   "cell_type": "code",
   "execution_count": 1,
   "metadata": {},
   "outputs": [],
   "source": [
    "# Import needed libraries/APIs\n",
    "import numpy as np\n",
    "import matplotlib.pyplot as plt\n",
    "import pandas as pd\n",
    "import zipfile\n",
    "import os\n",
    "import scipy\n",
    "import kaggle\n",
    "from kaggle.api.kaggle_api_extended import KaggleApi\n",
    "import zipfile\n",
    "import datetime #YYYY-MM-DD\n",
    "from datetime import timedelta\n",
    "import csv"
   ]
  },
  {
   "cell_type": "code",
   "execution_count": 2,
   "metadata": {},
   "outputs": [],
   "source": [
    "# Authenticates the user's Kaggle API key\n",
    "# More info on Kaggle's API system: https://github.com/Kaggle/kaggle-api#api-credentials\n",
    "api = KaggleApi()\n",
    "api.authenticate()"
   ]
  },
  {
   "cell_type": "code",
   "execution_count": 3,
   "metadata": {},
   "outputs": [
    {
     "data": {
      "text/plain": [
       "True"
      ]
     },
     "execution_count": 3,
     "metadata": {},
     "output_type": "execute_result"
    }
   ],
   "source": [
    "# Installs required datasets from kaggle into 'Datasets' folder\n",
    "\n",
    "# New York Stock Exchange\n",
    "# api.dataset_download_file('dgawlik/nyse', file_name= 'fundamentals.csv', path= 'Datasets')\n",
    "# api.dataset_download_file('dgawlik/nyse', file_name= 'prices-split-adjusted.csv', path= 'Datasets')\n",
    "# api.dataset_download_file('dgawlik/nyse', file_name= 'prices.csv', path= 'Datasets')\n",
    "# api.dataset_download_file('dgawlik/nyse', file_name= 'securities.csv', path= 'Datasets')\n",
    "\n",
    "# S&P 500 Stock Data\n",
    "api.dataset_download_file('camnugent/sandp500', file_name= 'all_stocks_5yr.csv', path= 'Datasets')\n",
    "\n",
    "# Forex Euro/USD\n",
    "api.dataset_download_file('imetomi/eur-usd-forex-pair-historical-data-2002-2019', file_name= 'eurusd_hour.csv', path= 'Datasets')"
   ]
  },
  {
   "cell_type": "code",
   "execution_count": 4,
   "metadata": {},
   "outputs": [],
   "source": [
    "# Unzips files\n",
    "path = os.getcwd() + '\\Datasets'\n",
    "\n",
    "target = path + '\\eurusd_hour.csv.zip'\n",
    "with zipfile.ZipFile(target) as handle:\n",
    "    handle.extractall()"
   ]
  },
  {
   "cell_type": "code",
   "execution_count": 5,
   "metadata": {},
   "outputs": [],
   "source": [
    "# Monthly volitility of Euro-USD Forex Market\n",
    "eur_usd_hour = pd.read_csv('eurusd_hour.csv')\n",
    "\n",
    "import datetime\n",
    "\n",
    "# Create data lists\n",
    "date = eur_usd_hour['Date'].tolist()\n",
    "close_bid = eur_usd_hour['BO'].tolist()\n",
    "\n",
    "# Initialize CSV File\n",
    "with open('eur_usd_month_average.csv', 'w', newline='') as file:\n",
    "    writer = csv.writer(file)\n",
    "    writer.writerow([\"Date\", \"Price\"])\n",
    "\n",
    "#Initialize starting vars\n",
    "i = 0\n",
    "list_length = len(date) - 1\n",
    "format = \"%Y-%m-%d\"\n",
    "\n",
    "# Take monthly average of closing prices of the eur/usd forex into a .csv\n",
    "while i < list_length:\n",
    "    # Initialize loop vars\n",
    "    current_date = date[i]\n",
    "    old_date = date[i]\n",
    "    time_current_date = datetime.datetime.strptime(current_date, format)\n",
    "    time_old_date = datetime.datetime.strptime(old_date, format)\n",
    "    length = 0\n",
    "    sum_price = 0.0\n",
    "    exit = False\n",
    "    # Check if months are the same\n",
    "    while time_old_date.strftime(\"%B\") == time_current_date.strftime(\"%B\") and exit != True:\n",
    "        # Check if index is beyond list length\n",
    "        if i < list_length:\n",
    "            old_date = current_date\n",
    "            time_old_date = datetime.datetime.strptime(old_date, format)\n",
    "            sum_price += close_bid[i]\n",
    "            length += 1\n",
    "            i += 1\n",
    "            current_date = date[i]\n",
    "            time_current_date = datetime.datetime.strptime(current_date, format)\n",
    "        else:\n",
    "            exit = True\n",
    "    # Write data to new .csv row\n",
    "    average_month = sum_price/length\n",
    "    average_date = date[i]\n",
    "    with open('eur_usd_month_average.csv', 'a', newline='') as file:\n",
    "        writer = csv.writer(file)\n",
    "        writer.writerow([average_date, average_month])"
   ]
  },
  {
   "cell_type": "code",
   "execution_count": 71,
   "metadata": {},
   "outputs": [
    {
     "data": {
      "image/png": "[encoded data removed]",
      "text/plain": [
       "<Figure size 432x288 with 1 Axes>"
      ]
     },
     "metadata": {
      "needs_background": "light"
     },
     "output_type": "display_data"
    }
   ],
   "source": [
    "# Graph monthly Euro USD Forex Market\n",
    "eur_usd_month = pd.read_csv('eur_usd_month_average.csv')\n",
    "x = eur_usd_month['Date'].tolist()\n",
    "y = eur_usd_month['Price'].tolist()\n",
    "plt.plot(x,y)\n",
    "plt.title(\"USD per Euro (2005-2020\")\n",
    "plt.xlabel(\"Date\")\n",
    "plt.ylabel(\"Price\")\n",
    "plt.show()"
   ]
  }
 ],
 "metadata": {
  "interpreter": {
   "hash": "dd271282b15bad7e740fd3c19b97979e7b7ad51f4503636fb11865d8e10ae555"
  },
  "kernelspec": {
   "display_name": "Python 3.9.10 64-bit (windows store)",
   "language": "python",
   "name": "python3"
  },
  "language_info": {
   "codemirror_mode": {
    "name": "ipython",
    "version": 3
   },
   "file_extension": ".py",
   "mimetype": "text/x-python",
   "name": "python",
   "nbconvert_exporter": "python",
   "pygments_lexer": "ipython3",
   "version": "3.9.10"
  },
  "orig_nbformat": 4
 },
 "nbformat": 4,
 "nbformat_minor": 2
}
